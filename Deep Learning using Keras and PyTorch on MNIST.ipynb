{
  "cells": [
    {
      "cell_type": "markdown",
      "metadata": {
        "id": "SJyB7Oeg2_yX"
      },
      "source": [
        "\n",
        "\n",
        "Initialization"
      ]
    },
    {
      "cell_type": "code",
      "execution_count": 1,
      "metadata": {
        "colab": {
          "base_uri": "https://localhost:8080/"
        },
        "id": "-5mF8IK32_yd",
        "outputId": "8e8cf8c5-9e93-4bf2-d85f-140036fdbca5"
      },
      "outputs": [
        {
          "name": "stdout",
          "output_type": "stream",
          "text": [
            "Downloading http://yann.lecun.com/exdb/mnist/train-images-idx3-ubyte.gz\n",
            "Downloading http://yann.lecun.com/exdb/mnist/train-images-idx3-ubyte.gz to ./data/MNIST/raw/train-images-idx3-ubyte.gz\n"
          ]
        },
        {
          "name": "stderr",
          "output_type": "stream",
          "text": [
            "100%|██████████| 9912422/9912422 [00:00<00:00, 80847432.36it/s]\n"
          ]
        },
        {
          "name": "stdout",
          "output_type": "stream",
          "text": [
            "Extracting ./data/MNIST/raw/train-images-idx3-ubyte.gz to ./data/MNIST/raw\n",
            "\n",
            "Downloading http://yann.lecun.com/exdb/mnist/train-labels-idx1-ubyte.gz\n",
            "Downloading http://yann.lecun.com/exdb/mnist/train-labels-idx1-ubyte.gz to ./data/MNIST/raw/train-labels-idx1-ubyte.gz\n"
          ]
        },
        {
          "name": "stderr",
          "output_type": "stream",
          "text": [
            "100%|██████████| 28881/28881 [00:00<00:00, 121378450.73it/s]\n"
          ]
        },
        {
          "name": "stdout",
          "output_type": "stream",
          "text": [
            "Extracting ./data/MNIST/raw/train-labels-idx1-ubyte.gz to ./data/MNIST/raw\n",
            "\n",
            "Downloading http://yann.lecun.com/exdb/mnist/t10k-images-idx3-ubyte.gz\n",
            "Downloading http://yann.lecun.com/exdb/mnist/t10k-images-idx3-ubyte.gz to ./data/MNIST/raw/t10k-images-idx3-ubyte.gz\n"
          ]
        },
        {
          "name": "stderr",
          "output_type": "stream",
          "text": [
            "100%|██████████| 1648877/1648877 [00:00<00:00, 45304060.77it/s]\n"
          ]
        },
        {
          "name": "stdout",
          "output_type": "stream",
          "text": [
            "Extracting ./data/MNIST/raw/t10k-images-idx3-ubyte.gz to ./data/MNIST/raw\n",
            "\n",
            "Downloading http://yann.lecun.com/exdb/mnist/t10k-labels-idx1-ubyte.gz\n",
            "Downloading http://yann.lecun.com/exdb/mnist/t10k-labels-idx1-ubyte.gz to ./data/MNIST/raw/t10k-labels-idx1-ubyte.gz\n"
          ]
        },
        {
          "name": "stderr",
          "output_type": "stream",
          "text": [
            "100%|██████████| 4542/4542 [00:00<00:00, 20774840.53it/s]"
          ]
        },
        {
          "name": "stdout",
          "output_type": "stream",
          "text": [
            "Extracting ./data/MNIST/raw/t10k-labels-idx1-ubyte.gz to ./data/MNIST/raw\n",
            "\n"
          ]
        },
        {
          "name": "stderr",
          "output_type": "stream",
          "text": [
            "\n"
          ]
        }
      ],
      "source": [
        "import time\n",
        "import torch\n",
        "import torch.nn as nn\n",
        "import torchvision\n",
        "import torchvision.transforms as transforms\n",
        "\n",
        "from matplotlib import pyplot as plt\n",
        "import numpy as np\n",
        "from datetime import datetime\n",
        "from sklearn.metrics import confusion_matrix\n",
        "import itertools\n",
        "\n",
        "# Device configuration\n",
        "device = torch.device('cuda:0' if torch.cuda.is_available() else 'cpu')\n",
        "\n",
        "# MNIST dataset\n",
        "train_dataset = torchvision.datasets.MNIST(root='./data/',\n",
        "                                           train=True,\n",
        "                                           transform=transforms.ToTensor(),\n",
        "                                           download=True)\n",
        "\n",
        "test_dataset = torchvision.datasets.MNIST(root='./data/',\n",
        "                                          train=False,\n",
        "                                          transform= transforms.ToTensor())\n"
      ]
    },
    {
      "cell_type": "markdown",
      "metadata": {
        "id": "WiuDYatGKuwi"
      },
      "source": [
        "# Utilities\n",
        "These functions provide Learning curve plots and learning progress reports"
      ]
    },
    {
      "cell_type": "code",
      "execution_count": 2,
      "metadata": {
        "id": "rcJpiG9QUcax"
      },
      "outputs": [],
      "source": [
        "'''Learning Curve Plot Utility'''\n",
        "def plot(train_loss_history, val_loss_history, train_acc_history, val_acc_history):\n",
        "  fig, axs = plt.subplots(1, 2, figsize=(11,5))\n",
        "\n",
        "  ax = axs[0]\n",
        "  ax.set_title(\"Model Loss\", fontsize=12)\n",
        "  ax.plot(train_loss_history, label=\"Training\")\n",
        "  ax.plot(val_loss_history,   label=\"Validation\")\n",
        "  ax.set_xlabel(\"Epoch\",        fontsize=12)\n",
        "  ax.set_ylabel(\"Average loss\", fontsize=12)\n",
        "  ax.legend(loc=\"best\",         fontsize=12)\n",
        "\n",
        "  ax = axs[1]\n",
        "  ax.set_title(\"Model Accuracy\", fontsize=12)\n",
        "  ax.plot(train_acc_history, label=\"Training\")\n",
        "  ax.plot(val_acc_history,   label=\"Validation\")\n",
        "  ax.set_xlabel(\"Epoch\",        fontsize=12)\n",
        "  ax.set_ylabel(\"Accuracy\",     fontsize=12)\n",
        "  ax.set_ylim(0,1)\n",
        "  ax.legend(loc=\"best\",         fontsize=12)"
      ]
    },
    {
      "cell_type": "code",
      "execution_count": 3,
      "metadata": {
        "id": "GGfqtNuSSHuL"
      },
      "outputs": [],
      "source": [
        "'''Learning progress utility'''\n",
        "def log_progress(running_loss, curr_batch, batch_size, curr_epoch, total_epochs, dataloader):\n",
        "    \"\"\"\n",
        "    Prints message logging progress through training.\n",
        "    \"\"\"\n",
        "    progress = float(curr_batch + 1)/(float(len(dataloader.dataset)) / batch_size)\n",
        "    log = \"EPOCH [{}/{}]. Running Loss: {} Progress: {} % \".format(\n",
        "        curr_epoch + 1, total_epochs, round(running_loss, 2), round(progress * 100, 2))\n",
        "    print(log)"
      ]
    },
    {
      "cell_type": "code",
      "execution_count": 4,
      "metadata": {
        "id": "LSj2vl1eeKyV"
      },
      "outputs": [],
      "source": [
        "#  preserntation for a confusion matrix\n",
        "\n",
        "def plot_confusion_matrix(cm, classes,\n",
        "                          normalize=False,\n",
        "                          title='Confusion matrix',\n",
        "                          cmap=plt.cm.Blues):\n",
        "    \"\"\"\n",
        "    This function prints and plots the confusion matrix.\n",
        "    Normalization can be applied by setting `normalize=True`.\n",
        "    \"\"\"\n",
        "    if normalize:\n",
        "        cm = cm.astype('float') / cm.sum(axis=1)[:, np.newaxis]\n",
        "        print(\"Normalized confusion matrix\")\n",
        "    else:\n",
        "        print('Confusion matrix, without normalization')\n",
        "\n",
        "    #print(cm)\n",
        "\n",
        "    plt.imshow(cm, interpolation='nearest', cmap=cmap)\n",
        "    plt.title(title)\n",
        "    plt.colorbar()\n",
        "    tick_marks = np.arange(len(classes))\n",
        "    plt.xticks(tick_marks, classes, rotation=45)\n",
        "    plt.yticks(tick_marks, classes)\n",
        "\n",
        "    fmt = '.2f' if normalize else 'd'\n",
        "    thresh = cm.max() / 2.\n",
        "    for i, j in itertools.product(range(cm.shape[0]), range(cm.shape[1])):\n",
        "        plt.text(j, i, format(cm[i, j], fmt),\n",
        "                 horizontalalignment=\"center\",\n",
        "                 color=\"white\" if cm[i, j] > thresh else \"black\")\n",
        "\n",
        "    plt.ylabel('True label')\n",
        "    plt.xlabel('Predicted label')\n",
        "    plt.tight_layout()\n"
      ]
    },
    {
      "cell_type": "markdown",
      "metadata": {
        "id": "NXf3BiRFeKyV"
      },
      "source": [
        "<h3> Hyperparameters </h3>"
      ]
    },
    {
      "cell_type": "code",
      "execution_count": 5,
      "metadata": {
        "id": "-39H6PNyQI4x"
      },
      "outputs": [],
      "source": [
        "# Hyperparameters\n",
        "num_epochs = 6\n",
        "num_classes = 10\n",
        "batch_size = 100\n",
        "learning_rate = 0.0001"
      ]
    },
    {
      "cell_type": "markdown",
      "metadata": {
        "id": "irUnBwSCeKyV"
      },
      "source": [
        "<h3> Data Loader</h3>"
      ]
    },
    {
      "cell_type": "code",
      "execution_count": 6,
      "metadata": {
        "id": "xLGXeFkz2_yk"
      },
      "outputs": [],
      "source": [
        "# Data loader\n",
        "train_loader = torch.utils.data.DataLoader(dataset=train_dataset,\n",
        "                                           batch_size=batch_size,\n",
        "                                           shuffle=True)\n",
        "\n",
        "test_loader = torch.utils.data.DataLoader(dataset=test_dataset,\n",
        "                                          batch_size=batch_size,\n",
        "                                          shuffle=False)"
      ]
    },
    {
      "cell_type": "markdown",
      "metadata": {
        "id": "zpIzFubFLfBG"
      },
      "source": [
        "## Model P2\n"
      ]
    },
    {
      "cell_type": "markdown",
      "metadata": {
        "id": "3F6M7-Dm1jrS"
      },
      "source": [
        "Discussion:\n",
        "\n",
        "The first change we do is add 3rd layer in the model. The third layer uses Convolution using 3x3 kernel with RelU Activation function. It also uses Batch Normalization and Max pooling with padding and stride of 2. The 2nd iteration is increase in the number of neurons in fully connected layer to 256 and another fully connected layer. Finally the third iteration is to add drop out of 0.25 to avoid overfitting on the training data set."
      ]
    },
    {
      "cell_type": "markdown",
      "metadata": {
        "id": "A9Edb_cqrKss"
      },
      "source": [
        " #### Iteration 1: Here we add just a third layer to the network with a kernel size of 3x3 for convolution and Relu as the activation function"
      ]
    },
    {
      "cell_type": "code",
      "execution_count": 7,
      "metadata": {
        "id": "n7nXTSdg2_yn"
      },
      "outputs": [],
      "source": [
        "# Model\n",
        "# Convolutional neural network (two convolutional layers)\n",
        "class ConvNet(nn.Module):\n",
        "    def __init__(self, num_classes=10):\n",
        "        super(ConvNet, self).__init__()\n",
        "        self.layer1 = nn.Sequential(\n",
        "            nn.Conv2d(1, 16, kernel_size=5, stride=1, padding=2),\n",
        "            nn.BatchNorm2d(16),\n",
        "            nn.ReLU(),\n",
        "            nn.MaxPool2d(kernel_size=2, stride=2)\n",
        "        )\n",
        "        self.layer2 = nn.Sequential(\n",
        "            nn.Conv2d(16, 32, kernel_size=5, stride=1, padding=2),\n",
        "            nn.BatchNorm2d(32),\n",
        "            nn.ReLU(),\n",
        "            nn.MaxPool2d(kernel_size=2, stride=2)\n",
        "        )\n",
        "        self.layer3 = nn.Sequential(\n",
        "            nn.Conv2d(32, 64, kernel_size=3, stride=1, padding=1),  # Added third layer\n",
        "            nn.BatchNorm2d(64),\n",
        "            nn.ReLU(),\n",
        "            nn.MaxPool2d(kernel_size=2, stride=2)\n",
        "        )\n",
        "        self.fc = nn.Linear(3 * 3 * 64, num_classes)  # Adjusted the linear layer input size\n",
        "\n",
        "    def forward(self, x):\n",
        "        out = self.layer1(x)\n",
        "        out = self.layer2(out)\n",
        "        out = self.layer3(out)\n",
        "        out = out.view(out.size(0), -1)\n",
        "        out = self.fc(out)\n",
        "        return out\n",
        "\n",
        "# Instantiate the model\n",
        "model = ConvNet(num_classes).to(device)"
      ]
    },
    {
      "cell_type": "markdown",
      "metadata": {
        "id": "TEIwnnfkr6m8"
      },
      "source": [
        "#### Iteration 2: Here we increase the no, of neurons in fully connected layer to 256 and a fully connected layer"
      ]
    },
    {
      "cell_type": "code",
      "execution_count": 8,
      "metadata": {
        "id": "hk7N76-2m8wM"
      },
      "outputs": [],
      "source": [
        "class ConvNet(nn.Module):\n",
        "    def __init__(self, num_classes=10):\n",
        "        super(ConvNet, self).__init__()\n",
        "        self.layer1 = nn.Sequential(\n",
        "            nn.Conv2d(1, 16, kernel_size=5, stride=1, padding=2),\n",
        "            nn.BatchNorm2d(16),\n",
        "            nn.ReLU(),\n",
        "            nn.MaxPool2d(kernel_size=2, stride=2)\n",
        "        )\n",
        "        self.layer2 = nn.Sequential(\n",
        "            nn.Conv2d(16, 32, kernel_size=5, stride=1, padding=2),\n",
        "            nn.BatchNorm2d(32),\n",
        "            nn.ReLU(),\n",
        "            nn.MaxPool2d(kernel_size=2, stride=2)\n",
        "        )\n",
        "        self.layer3 = nn.Sequential(\n",
        "            nn.Conv2d(32, 64, kernel_size=3, stride=1, padding=1),\n",
        "            nn.BatchNorm2d(64),\n",
        "            nn.ReLU(),\n",
        "            nn.MaxPool2d(kernel_size=2, stride=2)\n",
        "        )\n",
        "        self.fc = nn.Linear(3 * 3 * 64, 256)  # Increased the number of neurons in the fully connected layer\n",
        "        self.fc2 = nn.Linear(256, num_classes)  # Added a second fully connected layer\n",
        "\n",
        "    def forward(self, x):\n",
        "        out = self.layer1(x)\n",
        "        out = self.layer2(out)\n",
        "        out = self.layer3(out)\n",
        "        out = out.view(out.size(0), -1)\n",
        "        out = nn.functional.relu(self.fc(out))  # Used F.relu for the activation function\n",
        "        out = self.fc2(out)\n",
        "        return out\n",
        "\n",
        "# Instantiate the model\n",
        "model1 = ConvNet(num_classes).to(device)"
      ]
    },
    {
      "cell_type": "markdown",
      "metadata": {
        "id": "uJPf3qaKsFLj"
      },
      "source": [
        "#### Iteration 3: Here we finally add a dropout of 0.25 to avoid overfitting on the training dataset"
      ]
    },
    {
      "cell_type": "code",
      "execution_count": 9,
      "metadata": {
        "id": "InSGk9zkpnkz"
      },
      "outputs": [],
      "source": [
        "class ConvNet(nn.Module):\n",
        "    def __init__(self, num_classes=10):\n",
        "        super(ConvNet, self).__init__()\n",
        "        self.layer1 = nn.Sequential(\n",
        "            nn.Conv2d(1, 16, kernel_size=5, stride=1, padding=2),\n",
        "            nn.BatchNorm2d(16),\n",
        "            nn.ReLU(),\n",
        "            nn.MaxPool2d(kernel_size=2, stride=2)\n",
        "        )\n",
        "        self.layer2 = nn.Sequential(\n",
        "            nn.Conv2d(16, 32, kernel_size=5, stride=1, padding=2),\n",
        "            nn.BatchNorm2d(32),\n",
        "            nn.ReLU(),\n",
        "            nn.MaxPool2d(kernel_size=2, stride=2)\n",
        "        )\n",
        "        self.layer3 = nn.Sequential(\n",
        "            nn.Conv2d(32, 64, kernel_size=3, stride=1, padding=1),\n",
        "            nn.BatchNorm2d(64),\n",
        "            nn.ReLU(),\n",
        "            nn.MaxPool2d(kernel_size=2, stride=2)\n",
        "        )\n",
        "        self.fc = nn.Linear(3 * 3 * 64, 256)\n",
        "        self.dropout = nn.Dropout(0.25)  # Added dropout layer\n",
        "        self.fc2 = nn.Linear(256, num_classes)\n",
        "\n",
        "    def forward(self, x):\n",
        "        out = self.layer1(x)\n",
        "        out = self.layer2(out)\n",
        "        out = self.layer3(out)\n",
        "        out = out.view(out.size(0), -1)\n",
        "        out = nn.functional.relu(self.fc(out))\n",
        "        out = self.dropout(out)  # Applied dropout after the first fully connected layer\n",
        "        out = self.fc2(out)\n",
        "        return out\n",
        "\n",
        "# Instantiate the model\n",
        "model2 = ConvNet(num_classes).to(device)"
      ]
    },
    {
      "cell_type": "markdown",
      "metadata": {
        "id": "-ePFsvflxh3Z"
      },
      "source": [
        "#### Old model in the tutorial"
      ]
    },
    {
      "cell_type": "code",
      "execution_count": 10,
      "metadata": {
        "id": "nO8x0vA_xhAT"
      },
      "outputs": [],
      "source": [
        "# Model\n",
        "# Convolutional neural network (two convolutional layers)\n",
        "class ConvNet(nn.Module):\n",
        "    def __init__(self, num_classes=10):\n",
        "        super(ConvNet, self).__init__()\n",
        "        self.layer1 = nn.Sequential(\n",
        "            nn.Conv2d(1, 16, kernel_size=5, stride=1, padding=2),\n",
        "            nn.BatchNorm2d(16),\n",
        "            nn.ReLU(),\n",
        "            nn.MaxPool2d(kernel_size=2, stride=2)\n",
        "            )\n",
        "        self.layer2 = nn.Sequential(\n",
        "            nn.Conv2d(16, 32, kernel_size=5, stride=1, padding=2),\n",
        "            nn.BatchNorm2d(32),\n",
        "            nn.ReLU(),\n",
        "            nn.MaxPool2d(kernel_size=2, stride=2))\n",
        "        self.fc = nn.Linear(7*7*32, num_classes)\n",
        "\n",
        "    def forward(self, x):\n",
        "        out = self.layer1(x)\n",
        "        out = self.layer2(out)\n",
        "        out = out.reshape(out.size(0), -1)\n",
        "        out = self.fc(out)\n",
        "        return out\n",
        "\n",
        "model_old = ConvNet(num_classes).to(device)"
      ]
    },
    {
      "cell_type": "markdown",
      "metadata": {
        "id": "Y5LXLIslxn6f"
      },
      "source": []
    },
    {
      "cell_type": "markdown",
      "metadata": {
        "id": "sWeAgDx7xn_I"
      },
      "source": [
        "#### Training on the old model"
      ]
    },
    {
      "cell_type": "code",
      "execution_count": 11,
      "metadata": {
        "colab": {
          "base_uri": "https://localhost:8080/"
        },
        "id": "Sclc8RpdxmVz",
        "outputId": "95c9242f-f5fa-4c39-c2b6-c4062ceb74a4"
      },
      "outputs": [
        {
          "name": "stdout",
          "output_type": "stream",
          "text": [
            "EPOCH [1/6]. Running Loss: 216.73 Progress: 33.33 % \n",
            "EPOCH [1/6]. Running Loss: 277.4 Progress: 66.67 % \n",
            "EPOCH [1/6]. Running Loss: 312.1 Progress: 100.0 % \n",
            "Train Avg. Loss: [0.235] Acc: 0.8914 on 60000.0 images\n",
            "Validating...\n",
            "Val Avg. Loss: [0.1473] Acc: 0.9701 on 10000.0 images\n",
            "\n",
            "EPOCH [2/6]. Running Loss: 23.29 Progress: 33.33 % \n",
            "EPOCH [2/6]. Running Loss: 40.53 Progress: 66.67 % \n",
            "EPOCH [2/6]. Running Loss: 55.42 Progress: 100.0 % \n",
            "Train Avg. Loss: [0.1773] Acc: 0.9724 on 60000.0 images\n",
            "Validating...\n",
            "Val Avg. Loss: [0.0335] Acc: 0.982 on 10000.0 images\n",
            "\n",
            "EPOCH [3/6]. Running Loss: 12.13 Progress: 33.33 % \n",
            "EPOCH [3/6]. Running Loss: 24.77 Progress: 66.67 % \n",
            "EPOCH [3/6]. Running Loss: 36.14 Progress: 100.0 % \n",
            "Train Avg. Loss: [0.0343] Acc: 0.9817 on 60000.0 images\n",
            "Validating...\n",
            "Val Avg. Loss: [0.0256] Acc: 0.9841 on 10000.0 images\n",
            "\n",
            "EPOCH [4/6]. Running Loss: 9.39 Progress: 33.33 % \n",
            "EPOCH [4/6]. Running Loss: 18.84 Progress: 66.67 % \n",
            "EPOCH [4/6]. Running Loss: 28.73 Progress: 100.0 % \n",
            "Train Avg. Loss: [0.0175] Acc: 0.9855 on 60000.0 images\n",
            "Validating...\n",
            "Val Avg. Loss: [0.014] Acc: 0.9859 on 10000.0 images\n",
            "\n",
            "EPOCH [5/6]. Running Loss: 7.98 Progress: 33.33 % \n",
            "EPOCH [5/6]. Running Loss: 16.27 Progress: 66.67 % \n",
            "EPOCH [5/6]. Running Loss: 24.34 Progress: 100.0 % \n",
            "Train Avg. Loss: [0.0158] Acc: 0.9876 on 60000.0 images\n",
            "Validating...\n",
            "Val Avg. Loss: [0.0101] Acc: 0.9893 on 10000.0 images\n",
            "\n",
            "EPOCH [6/6]. Running Loss: 7.08 Progress: 33.33 % \n",
            "EPOCH [6/6]. Running Loss: 13.79 Progress: 66.67 % \n",
            "EPOCH [6/6]. Running Loss: 20.74 Progress: 100.0 % \n",
            "Train Avg. Loss: [0.0668] Acc: 0.9894 on 60000.0 images\n",
            "Validating...\n",
            "Val Avg. Loss: [0.0107] Acc: 0.9896 on 10000.0 images\n",
            "\n",
            "Time Elapsed: 82.676362 seconds\n"
          ]
        }
      ],
      "source": [
        "# Loss and optimizer\n",
        "criterion = nn.CrossEntropyLoss()\n",
        "optimizer = torch.optim.Adam(model_old.parameters(), lr=learning_rate)\n",
        "\n",
        "# Keep track of average losses, training accuracy and validation accuracy for each epoch\n",
        "train_loss_history = np.zeros(num_epochs)\n",
        "train_acc_history  = np.zeros(num_epochs)\n",
        "val_loss_history   = np.zeros(num_epochs)\n",
        "val_acc_history    = np.zeros(num_epochs)\n",
        "\n",
        "start_time = datetime.now()\n",
        "\n",
        "for epoch in range(num_epochs):\n",
        "\n",
        "    # Place network in training mode\n",
        "    model_old.train()\n",
        "\n",
        "    # Initialize running epoch loss and number correctly classified\n",
        "    running_loss   = 0.0\n",
        "    num_correct    = 0.0\n",
        "    total_images   = 0.0\n",
        "\n",
        "    for batch_num, (inputs, labels) in enumerate(train_loader):\n",
        "        # [inputs] and [labels] is one batch of images and their classes\n",
        "        inputs = inputs.to(device)\n",
        "        labels = labels.to(device)\n",
        "\n",
        "        # Forward pass\n",
        "        outputs = model_old(inputs)\n",
        "        loss = criterion(outputs, labels)\n",
        "\n",
        "        # Backward and optimize\n",
        "        optimizer.zero_grad()\n",
        "        loss.backward()\n",
        "        optimizer.step()\n",
        "\n",
        "        # Update statistics for this batch\n",
        "        curr_loss = loss.item()\n",
        "        _, preds = torch.max(outputs, 1)\n",
        "        curr_images = labels.cpu().data.numpy().size\n",
        "        curr_correct = torch.sum(preds == labels.data.reshape(-1))\n",
        "\n",
        "        # Update running statistics for this epoch\n",
        "        running_loss += curr_loss\n",
        "        num_correct += curr_correct\n",
        "        total_images += curr_images\n",
        "\n",
        "        # Log Progress every 200 batches\n",
        "        if (batch_num + 1) % 200 == 0:\n",
        "          log_progress(running_loss, batch_num, batch_size, epoch, num_epochs, train_loader)\n",
        "\n",
        "    # Update statistics for epoch\n",
        "    train_loss_history[epoch] = curr_loss #running_loss / total_images\n",
        "    train_acc_history[epoch]  = float(num_correct)  / float(total_images)\n",
        "    print(\"Train Avg. Loss: [{}] Acc: {} on {} images\".format(\n",
        "        round(train_loss_history[epoch],4), round(train_acc_history[epoch],4), total_images) )\n",
        "\n",
        "    # ============================ Validation ==============================\n",
        "    print(\"Validating...\")\n",
        "    # Place network in testing mode (won't need to keep track of gradients)\n",
        "    model_old.eval()\n",
        "\n",
        "    running_loss   = 0.0\n",
        "    num_correct    = 0.0\n",
        "    total_images   = 0.0\n",
        "\n",
        "    for batch_num, (inputs, labels) in enumerate(test_loader):\n",
        "        inputs = inputs.to(device)\n",
        "        labels = labels.to(device)\n",
        "\n",
        "        # Propagate batch through network\n",
        "        outputs  = model_old(inputs)\n",
        "        loss     = criterion(outputs, labels.squeeze())\n",
        "        _, preds = torch.max(outputs, 1)\n",
        "\n",
        "        # Update statistics for this batch\n",
        "        running_loss  += loss.item()\n",
        "        num_correct   += torch.sum(preds == labels.data.reshape(-1))\n",
        "        total_images  += labels.cpu().data.numpy().size\n",
        "\n",
        "        # Log Progress every 200 batches\n",
        "        if (batch_num + 1) % 200 == 0:\n",
        "          log_progress(running_loss, batch_num, batch_size, epoch, num_epochs, test_loader)\n",
        "\n",
        "    # Update statistics for validation data\n",
        "    val_loss_history[epoch] = loss.item() #running_loss / total_images\n",
        "    val_acc_history[epoch]  = float(num_correct)  / float(total_images)\n",
        "    print(\"Val Avg. Loss: [{}] Acc: {} on {} images\\n\".format(\n",
        "        round(val_loss_history[epoch],4), val_acc_history[epoch], total_images))\n",
        "\n",
        "print(\"Time Elapsed: {} seconds\".format((datetime.now() - start_time).total_seconds()))"
      ]
    },
    {
      "cell_type": "markdown",
      "metadata": {
        "id": "DQhKowFgy1ty"
      },
      "source": [
        "# Training on Iteraqtion 1"
      ]
    },
    {
      "cell_type": "code",
      "execution_count": 12,
      "metadata": {
        "colab": {
          "base_uri": "https://localhost:8080/"
        },
        "id": "nL5ha6WXRbYp",
        "outputId": "2c081cfe-1272-465b-f8e2-5d8be577923e"
      },
      "outputs": [
        {
          "name": "stdout",
          "output_type": "stream",
          "text": [
            "EPOCH [1/6]. Running Loss: 15.23 Progress: 33.33 % \n",
            "EPOCH [1/6]. Running Loss: 26.92 Progress: 66.67 % \n",
            "EPOCH [1/6]. Running Loss: 36.32 Progress: 100.0 % \n",
            "Train Avg. Loss: [0.0345] Acc: 0.9881 on 60000.0 images\n",
            "Validating...\n",
            "Val Avg. Loss: [0.0256] Acc: 0.988 on 10000.0 images\n",
            "\n",
            "EPOCH [2/6]. Running Loss: 8.32 Progress: 33.33 % \n",
            "EPOCH [2/6]. Running Loss: 16.17 Progress: 66.67 % \n",
            "EPOCH [2/6]. Running Loss: 24.01 Progress: 100.0 % \n",
            "Train Avg. Loss: [0.0289] Acc: 0.9901 on 60000.0 images\n",
            "Validating...\n",
            "Val Avg. Loss: [0.0161] Acc: 0.9893 on 10000.0 images\n",
            "\n",
            "EPOCH [3/6]. Running Loss: 6.47 Progress: 33.33 % \n",
            "EPOCH [3/6]. Running Loss: 12.98 Progress: 66.67 % \n",
            "EPOCH [3/6]. Running Loss: 19.24 Progress: 100.0 % \n",
            "Train Avg. Loss: [0.0438] Acc: 0.9924 on 60000.0 images\n",
            "Validating...\n",
            "Val Avg. Loss: [0.0146] Acc: 0.9906 on 10000.0 images\n",
            "\n",
            "EPOCH [4/6]. Running Loss: 5.23 Progress: 33.33 % \n",
            "EPOCH [4/6]. Running Loss: 10.75 Progress: 66.67 % \n",
            "EPOCH [4/6]. Running Loss: 16.09 Progress: 100.0 % \n",
            "Train Avg. Loss: [0.0438] Acc: 0.9936 on 60000.0 images\n",
            "Validating...\n",
            "Val Avg. Loss: [0.0085] Acc: 0.9913 on 10000.0 images\n",
            "\n",
            "EPOCH [5/6]. Running Loss: 4.25 Progress: 33.33 % \n",
            "EPOCH [5/6]. Running Loss: 9.2 Progress: 66.67 % \n",
            "EPOCH [5/6]. Running Loss: 13.75 Progress: 100.0 % \n",
            "Train Avg. Loss: [0.0154] Acc: 0.9943 on 60000.0 images\n",
            "Validating...\n",
            "Val Avg. Loss: [0.0137] Acc: 0.9904 on 10000.0 images\n",
            "\n",
            "EPOCH [6/6]. Running Loss: 3.86 Progress: 33.33 % \n",
            "EPOCH [6/6]. Running Loss: 8.03 Progress: 66.67 % \n",
            "EPOCH [6/6]. Running Loss: 11.87 Progress: 100.0 % \n",
            "Train Avg. Loss: [0.011] Acc: 0.9954 on 60000.0 images\n",
            "Validating...\n",
            "Val Avg. Loss: [0.0101] Acc: 0.9909 on 10000.0 images\n",
            "\n",
            "Time Elapsed: 61.585003 seconds\n"
          ]
        }
      ],
      "source": [
        "# Loss and optimizer\n",
        "criterion = nn.CrossEntropyLoss()\n",
        "optimizer = torch.optim.Adam(model.parameters(), lr=learning_rate)\n",
        "\n",
        "# Keep track of average losses, training accuracy and validation accuracy for each epoch\n",
        "train_loss_history = np.zeros(num_epochs)\n",
        "train_acc_history  = np.zeros(num_epochs)\n",
        "val_loss_history   = np.zeros(num_epochs)\n",
        "val_acc_history    = np.zeros(num_epochs)\n",
        "\n",
        "start_time = datetime.now()\n",
        "\n",
        "for epoch in range(num_epochs):\n",
        "\n",
        "    # Place network in training mode\n",
        "    model.train()\n",
        "\n",
        "    # Initialize running epoch loss and number correctly classified\n",
        "    running_loss   = 0.0\n",
        "    num_correct    = 0.0\n",
        "    total_images   = 0.0\n",
        "\n",
        "    for batch_num, (inputs, labels) in enumerate(train_loader):\n",
        "        # [inputs] and [labels] is one batch of images and their classes\n",
        "        inputs = inputs.to(device)\n",
        "        labels = labels.to(device)\n",
        "\n",
        "        # Forward pass\n",
        "        outputs = model(inputs)\n",
        "        loss = criterion(outputs, labels)\n",
        "\n",
        "        # Backward and optimize\n",
        "        optimizer.zero_grad()\n",
        "        loss.backward()\n",
        "        optimizer.step()\n",
        "\n",
        "        # Update statistics for this batch\n",
        "        curr_loss = loss.item()\n",
        "        _, preds = torch.max(outputs, 1)\n",
        "        curr_images = labels.cpu().data.numpy().size\n",
        "        curr_correct = torch.sum(preds == labels.data.reshape(-1))\n",
        "\n",
        "        # Update running statistics for this epoch\n",
        "        running_loss += curr_loss\n",
        "        num_correct += curr_correct\n",
        "        total_images += curr_images\n",
        "\n",
        "        # Log Progress every 200 batches\n",
        "        if (batch_num + 1) % 200 == 0:\n",
        "          log_progress(running_loss, batch_num, batch_size, epoch, num_epochs, train_loader)\n",
        "\n",
        "    # Update statistics for epoch\n",
        "    train_loss_history[epoch] = curr_loss #running_loss / total_images\n",
        "    train_acc_history[epoch]  = float(num_correct)  / float(total_images)\n",
        "    print(\"Train Avg. Loss: [{}] Acc: {} on {} images\".format(\n",
        "        round(train_loss_history[epoch],4), round(train_acc_history[epoch],4), total_images) )\n",
        "\n",
        "    # ============================ Validation ==============================\n",
        "    print(\"Validating...\")\n",
        "    # Place network in testing mode (won't need to keep track of gradients)\n",
        "    model.eval()\n",
        "\n",
        "    running_loss   = 0.0\n",
        "    num_correct    = 0.0\n",
        "    total_images   = 0.0\n",
        "\n",
        "    for batch_num, (inputs, labels) in enumerate(test_loader):\n",
        "        inputs = inputs.to(device)\n",
        "        labels = labels.to(device)\n",
        "\n",
        "        # Propagate batch through network\n",
        "        outputs  = model(inputs)\n",
        "        loss     = criterion(outputs, labels.squeeze())\n",
        "        _, preds = torch.max(outputs, 1)\n",
        "\n",
        "        # Update statistics for this batch\n",
        "        running_loss  += loss.item()\n",
        "        num_correct   += torch.sum(preds == labels.data.reshape(-1))\n",
        "        total_images  += labels.cpu().data.numpy().size\n",
        "\n",
        "        # Log Progress every 200 batches\n",
        "        if (batch_num + 1) % 200 == 0:\n",
        "          log_progress(running_loss, batch_num, batch_size, epoch, num_epochs, test_loader)\n",
        "\n",
        "    # Update statistics for validation data\n",
        "    val_loss_history[epoch] = loss.item() #running_loss / total_images\n",
        "    val_acc_history[epoch]  = float(num_correct)  / float(total_images)\n",
        "    print(\"Val Avg. Loss: [{}] Acc: {} on {} images\\n\".format(\n",
        "        round(val_loss_history[epoch],4), val_acc_history[epoch], total_images))\n",
        "\n",
        "print(\"Time Elapsed: {} seconds\".format((datetime.now() - start_time).total_seconds()))"
      ]
    },
    {
      "cell_type": "markdown",
      "metadata": {
        "id": "1PFBnGpRsVSC"
      },
      "source": [
        "# Training on iteration 2"
      ]
    },
    {
      "cell_type": "code",
      "execution_count": 13,
      "metadata": {
        "colab": {
          "base_uri": "https://localhost:8080/"
        },
        "id": "1nR-nkfNsUjy",
        "outputId": "f919e457-eb0b-48c0-ff7d-6fcca7e463c5"
      },
      "outputs": [
        {
          "name": "stdout",
          "output_type": "stream",
          "text": [
            "EPOCH [1/6]. Running Loss: 173.25 Progress: 33.33 % \n",
            "EPOCH [1/6]. Running Loss: 206.83 Progress: 66.67 % \n",
            "EPOCH [1/6]. Running Loss: 229.61 Progress: 100.0 % \n",
            "Train Avg. Loss: [0.1586] Acc: 0.9217 on 60000.0 images\n",
            "Validating...\n",
            "Val Avg. Loss: [0.089] Acc: 0.9768 on 10000.0 images\n",
            "\n",
            "EPOCH [2/6]. Running Loss: 16.69 Progress: 33.33 % \n",
            "EPOCH [2/6]. Running Loss: 30.35 Progress: 66.67 % \n",
            "EPOCH [2/6]. Running Loss: 42.97 Progress: 100.0 % \n",
            "Train Avg. Loss: [0.0738] Acc: 0.9796 on 60000.0 images\n",
            "Validating...\n",
            "Val Avg. Loss: [0.0478] Acc: 0.9838 on 10000.0 images\n",
            "\n",
            "EPOCH [3/6]. Running Loss: 10.44 Progress: 33.33 % \n",
            "EPOCH [3/6]. Running Loss: 20.06 Progress: 66.67 % \n",
            "EPOCH [3/6]. Running Loss: 29.08 Progress: 100.0 % \n",
            "Train Avg. Loss: [0.051] Acc: 0.9861 on 60000.0 images\n",
            "Validating...\n",
            "Val Avg. Loss: [0.0204] Acc: 0.9884 on 10000.0 images\n",
            "\n",
            "EPOCH [4/6]. Running Loss: 7.68 Progress: 33.33 % \n",
            "EPOCH [4/6]. Running Loss: 15.37 Progress: 66.67 % \n",
            "EPOCH [4/6]. Running Loss: 22.12 Progress: 100.0 % \n",
            "Train Avg. Loss: [0.015] Acc: 0.9893 on 60000.0 images\n",
            "Validating...\n",
            "Val Avg. Loss: [0.0349] Acc: 0.9873 on 10000.0 images\n",
            "\n",
            "EPOCH [5/6]. Running Loss: 6.21 Progress: 33.33 % \n",
            "EPOCH [5/6]. Running Loss: 12.2 Progress: 66.67 % \n",
            "EPOCH [5/6]. Running Loss: 18.04 Progress: 100.0 % \n",
            "Train Avg. Loss: [0.0312] Acc: 0.9914 on 60000.0 images\n",
            "Validating...\n",
            "Val Avg. Loss: [0.0188] Acc: 0.9907 on 10000.0 images\n",
            "\n",
            "EPOCH [6/6]. Running Loss: 4.57 Progress: 33.33 % \n",
            "EPOCH [6/6]. Running Loss: 8.99 Progress: 66.67 % \n",
            "EPOCH [6/6]. Running Loss: 14.68 Progress: 100.0 % \n",
            "Train Avg. Loss: [0.0072] Acc: 0.9932 on 60000.0 images\n",
            "Validating...\n",
            "Val Avg. Loss: [0.012] Acc: 0.991 on 10000.0 images\n",
            "\n",
            "Time Elapsed: 62.790419 seconds\n"
          ]
        }
      ],
      "source": [
        "# Loss and optimizer\n",
        "criterion = nn.CrossEntropyLoss()\n",
        "optimizer = torch.optim.Adam(model1.parameters(), lr=learning_rate)\n",
        "\n",
        "# Keep track of average losses, training accuracy and validation accuracy for each epoch\n",
        "train_loss_history = np.zeros(num_epochs)\n",
        "train_acc_history  = np.zeros(num_epochs)\n",
        "val_loss_history   = np.zeros(num_epochs)\n",
        "val_acc_history    = np.zeros(num_epochs)\n",
        "\n",
        "start_time = datetime.now()\n",
        "\n",
        "for epoch in range(num_epochs):\n",
        "\n",
        "    # Place network in training mode\n",
        "    model1.train()\n",
        "\n",
        "    # Initialize running epoch loss and number correctly classified\n",
        "    running_loss   = 0.0\n",
        "    num_correct    = 0.0\n",
        "    total_images   = 0.0\n",
        "\n",
        "    for batch_num, (inputs, labels) in enumerate(train_loader):\n",
        "        # [inputs] and [labels] is one batch of images and their classes\n",
        "        inputs = inputs.to(device)\n",
        "        labels = labels.to(device)\n",
        "\n",
        "        # Forward pass\n",
        "        outputs = model1(inputs)\n",
        "        loss = criterion(outputs, labels)\n",
        "\n",
        "        # Backward and optimize\n",
        "        optimizer.zero_grad()\n",
        "        loss.backward()\n",
        "        optimizer.step()\n",
        "\n",
        "        # Update statistics for this batch\n",
        "        curr_loss = loss.item()\n",
        "        _, preds = torch.max(outputs, 1)\n",
        "        curr_images = labels.cpu().data.numpy().size\n",
        "        curr_correct = torch.sum(preds == labels.data.reshape(-1))\n",
        "\n",
        "        # Update running statistics for this epoch\n",
        "        running_loss += curr_loss\n",
        "        num_correct += curr_correct\n",
        "        total_images += curr_images\n",
        "\n",
        "        # Log Progress every 200 batches\n",
        "        if (batch_num + 1) % 200 == 0:\n",
        "          log_progress(running_loss, batch_num, batch_size, epoch, num_epochs, train_loader)\n",
        "\n",
        "    # Update statistics for epoch\n",
        "    train_loss_history[epoch] = curr_loss #running_loss / total_images\n",
        "    train_acc_history[epoch]  = float(num_correct)  / float(total_images)\n",
        "    print(\"Train Avg. Loss: [{}] Acc: {} on {} images\".format(\n",
        "        round(train_loss_history[epoch],4), round(train_acc_history[epoch],4), total_images) )\n",
        "\n",
        "    # ============================ Validation ==============================\n",
        "    print(\"Validating...\")\n",
        "    # Place network in testing mode (won't need to keep track of gradients)\n",
        "    model1.eval()\n",
        "\n",
        "    running_loss   = 0.0\n",
        "    num_correct    = 0.0\n",
        "    total_images   = 0.0\n",
        "\n",
        "    for batch_num, (inputs, labels) in enumerate(test_loader):\n",
        "        inputs = inputs.to(device)\n",
        "        labels = labels.to(device)\n",
        "\n",
        "        # Propagate batch through network\n",
        "        outputs  = model1(inputs)\n",
        "        loss     = criterion(outputs, labels.squeeze())\n",
        "        _, preds = torch.max(outputs, 1)\n",
        "\n",
        "        # Update statistics for this batch\n",
        "        running_loss  += loss.item()\n",
        "        num_correct   += torch.sum(preds == labels.data.reshape(-1))\n",
        "        total_images  += labels.cpu().data.numpy().size\n",
        "\n",
        "        # Log Progress every 200 batches\n",
        "        if (batch_num + 1) % 200 == 0:\n",
        "          log_progress(running_loss, batch_num, batch_size, epoch, num_epochs, test_loader)\n",
        "\n",
        "    # Update statistics for validation data\n",
        "    val_loss_history[epoch] = loss.item() #running_loss / total_images\n",
        "    val_acc_history[epoch]  = float(num_correct)  / float(total_images)\n",
        "    print(\"Val Avg. Loss: [{}] Acc: {} on {} images\\n\".format(\n",
        "        round(val_loss_history[epoch],4), val_acc_history[epoch], total_images))\n",
        "\n",
        "print(\"Time Elapsed: {} seconds\".format((datetime.now() - start_time).total_seconds()))"
      ]
    },
    {
      "cell_type": "markdown",
      "metadata": {
        "id": "blyVwRN9tc-E"
      },
      "source": [
        "# Training on iteration 3"
      ]
    },
    {
      "cell_type": "markdown",
      "metadata": {
        "id": "mYGzhhAatcEy"
      },
      "source": []
    },
    {
      "cell_type": "code",
      "execution_count": 14,
      "metadata": {
        "colab": {
          "base_uri": "https://localhost:8080/"
        },
        "id": "ZsFfAUeOm6j8",
        "outputId": "28799900-44b9-4ce3-8121-29aa8b3b1bb8"
      },
      "outputs": [
        {
          "name": "stdout",
          "output_type": "stream",
          "text": [
            "EPOCH [1/6]. Running Loss: 184.94 Progress: 33.33 % \n",
            "EPOCH [1/6]. Running Loss: 223.48 Progress: 66.67 % \n",
            "EPOCH [1/6]. Running Loss: 248.56 Progress: 100.0 % \n",
            "Train Avg. Loss: [0.0805] Acc: 0.9037 on 60000.0 images\n",
            "Validating...\n",
            "Val Avg. Loss: [0.1407] Acc: 0.9739 on 10000.0 images\n",
            "\n",
            "EPOCH [2/6]. Running Loss: 18.99 Progress: 33.33 % \n",
            "EPOCH [2/6]. Running Loss: 35.77 Progress: 66.67 % \n",
            "EPOCH [2/6]. Running Loss: 50.35 Progress: 100.0 % \n",
            "Train Avg. Loss: [0.03] Acc: 0.9758 on 60000.0 images\n",
            "Validating...\n",
            "Val Avg. Loss: [0.0504] Acc: 0.9855 on 10000.0 images\n",
            "\n",
            "EPOCH [3/6]. Running Loss: 12.24 Progress: 33.33 % \n",
            "EPOCH [3/6]. Running Loss: 24.06 Progress: 66.67 % \n",
            "EPOCH [3/6]. Running Loss: 34.38 Progress: 100.0 % \n",
            "Train Avg. Loss: [0.0134] Acc: 0.9837 on 60000.0 images\n",
            "Validating...\n",
            "Val Avg. Loss: [0.0408] Acc: 0.9871 on 10000.0 images\n",
            "\n",
            "EPOCH [4/6]. Running Loss: 9.01 Progress: 33.33 % \n",
            "EPOCH [4/6]. Running Loss: 18.65 Progress: 66.67 % \n",
            "EPOCH [4/6]. Running Loss: 26.88 Progress: 100.0 % \n",
            "Train Avg. Loss: [0.0302] Acc: 0.9869 on 60000.0 images\n",
            "Validating...\n",
            "Val Avg. Loss: [0.0103] Acc: 0.9864 on 10000.0 images\n",
            "\n",
            "EPOCH [5/6]. Running Loss: 7.29 Progress: 33.33 % \n",
            "EPOCH [5/6]. Running Loss: 14.64 Progress: 66.67 % \n",
            "EPOCH [5/6]. Running Loss: 22.09 Progress: 100.0 % \n",
            "Train Avg. Loss: [0.0454] Acc: 0.9894 on 60000.0 images\n",
            "Validating...\n",
            "Val Avg. Loss: [0.0077] Acc: 0.9922 on 10000.0 images\n",
            "\n",
            "EPOCH [6/6]. Running Loss: 6.96 Progress: 33.33 % \n",
            "EPOCH [6/6]. Running Loss: 13.35 Progress: 66.67 % \n",
            "EPOCH [6/6]. Running Loss: 18.79 Progress: 100.0 % \n",
            "Train Avg. Loss: [0.0107] Acc: 0.9908 on 60000.0 images\n",
            "Validating...\n",
            "Val Avg. Loss: [0.0108] Acc: 0.9921 on 10000.0 images\n",
            "\n",
            "Time Elapsed: 62.788637 seconds\n"
          ]
        }
      ],
      "source": [
        "# Loss and optimizer\n",
        "criterion = nn.CrossEntropyLoss()\n",
        "optimizer = torch.optim.Adam(model2.parameters(), lr=learning_rate)\n",
        "\n",
        "# Keep track of average losses, training accuracy and validation accuracy for each epoch\n",
        "train_loss_history = np.zeros(num_epochs)\n",
        "train_acc_history  = np.zeros(num_epochs)\n",
        "val_loss_history   = np.zeros(num_epochs)\n",
        "val_acc_history    = np.zeros(num_epochs)\n",
        "\n",
        "start_time = datetime.now()\n",
        "\n",
        "for epoch in range(num_epochs):\n",
        "\n",
        "    # Place network in training mode\n",
        "    model2.train()\n",
        "\n",
        "    # Initialize running epoch loss and number correctly classified\n",
        "    running_loss   = 0.0\n",
        "    num_correct    = 0.0\n",
        "    total_images   = 0.0\n",
        "\n",
        "    for batch_num, (inputs, labels) in enumerate(train_loader):\n",
        "        # [inputs] and [labels] is one batch of images and their classes\n",
        "        inputs = inputs.to(device)\n",
        "        labels = labels.to(device)\n",
        "\n",
        "        # Forward pass\n",
        "        outputs = model2(inputs)\n",
        "        loss = criterion(outputs, labels)\n",
        "\n",
        "        # Backward and optimize\n",
        "        optimizer.zero_grad()\n",
        "        loss.backward()\n",
        "        optimizer.step()\n",
        "\n",
        "        # Update statistics for this batch\n",
        "        curr_loss = loss.item()\n",
        "        _, preds = torch.max(outputs, 1)\n",
        "        curr_images = labels.cpu().data.numpy().size\n",
        "        curr_correct = torch.sum(preds == labels.data.reshape(-1))\n",
        "\n",
        "        # Update running statistics for this epoch\n",
        "        running_loss += curr_loss\n",
        "        num_correct += curr_correct\n",
        "        total_images += curr_images\n",
        "\n",
        "        # Log Progress every 200 batches\n",
        "        if (batch_num + 1) % 200 == 0:\n",
        "          log_progress(running_loss, batch_num, batch_size, epoch, num_epochs, train_loader)\n",
        "\n",
        "    # Update statistics for epoch\n",
        "    train_loss_history[epoch] = curr_loss #running_loss / total_images\n",
        "    train_acc_history[epoch]  = float(num_correct)  / float(total_images)\n",
        "    print(\"Train Avg. Loss: [{}] Acc: {} on {} images\".format(\n",
        "        round(train_loss_history[epoch],4), round(train_acc_history[epoch],4), total_images) )\n",
        "\n",
        "    # ============================ Validation ==============================\n",
        "    print(\"Validating...\")\n",
        "    # Place network in testing mode (won't need to keep track of gradients)\n",
        "    model2.eval()\n",
        "\n",
        "    running_loss   = 0.0\n",
        "    num_correct    = 0.0\n",
        "    total_images   = 0.0\n",
        "\n",
        "    for batch_num, (inputs, labels) in enumerate(test_loader):\n",
        "        inputs = inputs.to(device)\n",
        "        labels = labels.to(device)\n",
        "\n",
        "        # Propagate batch through network\n",
        "        outputs  = model2(inputs)\n",
        "        loss     = criterion(outputs, labels.squeeze())\n",
        "        _, preds = torch.max(outputs, 1)\n",
        "\n",
        "        # Update statistics for this batch\n",
        "        running_loss  += loss.item()\n",
        "        num_correct   += torch.sum(preds == labels.data.reshape(-1))\n",
        "        total_images  += labels.cpu().data.numpy().size\n",
        "\n",
        "        # Log Progress every 200 batches\n",
        "        if (batch_num + 1) % 200 == 0:\n",
        "          log_progress(running_loss, batch_num, batch_size, epoch, num_epochs, test_loader)\n",
        "\n",
        "    # Update statistics for validation data\n",
        "    val_loss_history[epoch] = loss.item() #running_loss / total_images\n",
        "    val_acc_history[epoch]  = float(num_correct)  / float(total_images)\n",
        "    print(\"Val Avg. Loss: [{}] Acc: {} on {} images\\n\".format(\n",
        "        round(val_loss_history[epoch],4), val_acc_history[epoch], total_images))\n",
        "\n",
        "print(\"Time Elapsed: {} seconds\".format((datetime.now() - start_time).total_seconds()))"
      ]
    },
    {
      "cell_type": "markdown",
      "metadata": {
        "id": "XYNN0xnceKyY"
      },
      "source": [
        "## Learning curve plots"
      ]
    },
    {
      "cell_type": "code",
      "execution_count": 15,
      "metadata": {
        "colab": {
          "base_uri": "https://localhost:8080/",
          "height": 508
        },
        "id": "wHNMzetZeKyY",
        "outputId": "6b8c8722-ec36-40e9-d628-36e5d849dd73"
      },
      "outputs": [
        {
          "name": "stdout",
          "output_type": "stream",
          "text": [
            "Testing on model trained with iteration 3\n"
          ]
        },
        {
          "data": {
            "image/png": "[encoded data removed]",
            "text/plain": [
              "<Figure size 1100x500 with 2 Axes>"
            ]
          },
          "metadata": {},
          "output_type": "display_data"
        }
      ],
      "source": [
        "print('Testing on model trained with iteration 3')\n",
        "plot(train_loss_history, val_loss_history, train_acc_history, val_acc_history)\n"
      ]
    },
    {
      "cell_type": "markdown",
      "metadata": {
        "id": "wwsjYkjJ0516"
      },
      "source": []
    },
    {
      "cell_type": "markdown",
      "metadata": {
        "id": "lKIz2QyB08iW"
      },
      "source": [
        "### Testing on original model"
      ]
    },
    {
      "cell_type": "markdown",
      "metadata": {
        "id": "i3GlTdAKeKyY"
      },
      "source": [
        "### Testing on final iteration"
      ]
    },
    {
      "cell_type": "code",
      "execution_count": 16,
      "metadata": {
        "colab": {
          "base_uri": "https://localhost:8080/"
        },
        "id": "muPpnYq7eKyY",
        "outputId": "caf85c6d-e7fe-403b-ea17-23cd4f851af9"
      },
      "outputs": [
        {
          "name": "stdout",
          "output_type": "stream",
          "text": [
            "Test Accuracy of the model on the 10000 test images: 99.21 %\n",
            "Time Elapsed: 1.135699 seconds\n"
          ]
        }
      ],
      "source": [
        "# Test the model\n",
        "start_time = datetime.now()\n",
        "ytest = []\n",
        "rtest = np.ones((0,10))\n",
        "model2.eval()  # eval mode (batchnorm uses moving mean/variance instead of mini-batch mean/variance)\n",
        "with torch.no_grad():\n",
        "    correct = 0\n",
        "    total = 0\n",
        "    for images, labels in test_loader:\n",
        "        ytest = np.append(ytest, labels)\n",
        "        images = images.to(device)\n",
        "        labels = labels.to(device)\n",
        "        outputs = model2(images)\n",
        "        _, predicted = torch.max(outputs.data, 1)\n",
        "        total += labels.size(0)\n",
        "        correct += (predicted == labels).sum().item()\n",
        "        outputs1 = outputs.cpu()\n",
        "        rtest = np.append(rtest, outputs1, axis=0)\n",
        "print('Test Accuracy of the model on the 10000 test images: {} %'.format(100 * correct / total))\n",
        "print(\"Time Elapsed: {} seconds\".format((datetime.now() - start_time).total_seconds()))"
      ]
    },
    {
      "cell_type": "code",
      "execution_count": 17,
      "metadata": {
        "colab": {
          "base_uri": "https://localhost:8080/",
          "height": 504
        },
        "id": "Ghv70FDaeKyZ",
        "outputId": "b91cb196-460a-49cb-ffaf-608675583e94"
      },
      "outputs": [
        {
          "name": "stdout",
          "output_type": "stream",
          "text": [
            "Confusion matrix, without normalization\n"
          ]
        },
        {
          "data": {
            "image/png": "[encoded data removed]",
            "text/plain": [
              "<Figure size 640x480 with 2 Axes>"
            ]
          },
          "metadata": {},
          "output_type": "display_data"
        }
      ],
      "source": [
        "cfm = confusion_matrix(ytest, np.argmax (rtest,axis=1))\n",
        "plot_confusion_matrix(cfm, classes=range(10),\n",
        "                      title='Confusion matrix for MNIST')"
      ]
    },
    {
      "cell_type": "code",
      "execution_count": 18,
      "metadata": {
        "id": "3oqIouiQeKyZ"
      },
      "outputs": [],
      "source": [
        "# Save the model checkpoint\n",
        "torch.save(model.state_dict(), 'model.ckpt')"
      ]
    }
  ],
  "metadata": {
    "accelerator": "GPU",
    "colab": {
      "provenance": []
    },
    "kernelspec": {
      "display_name": "Python 3",
      "language": "python",
      "name": "python3"
    },
    "language_info": {
      "codemirror_mode": {
        "name": "ipython",
        "version": 3
      },
      "file_extension": ".py",
      "mimetype": "text/x-python",
      "name": "python",
      "nbconvert_exporter": "python",
      "pygments_lexer": "ipython3",
      "version": "3.7.9"
    }
  },
  "nbformat": 4,
  "nbformat_minor": 0
}
